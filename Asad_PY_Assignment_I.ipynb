{
  "nbformat": 4,
  "nbformat_minor": 0,
  "metadata": {
    "colab": {
      "provenance": [],
      "authorship_tag": "ABX9TyOjk3TUx6mMcQeP9sCbvol/",
      "include_colab_link": true
    },
    "kernelspec": {
      "name": "python3",
      "display_name": "Python 3"
    },
    "language_info": {
      "name": "python"
    }
  },
  "cells": [
    {
      "cell_type": "markdown",
      "metadata": {
        "id": "view-in-github",
        "colab_type": "text"
      },
      "source": [
        "<a href=\"https://colab.research.google.com/github/ASADMUSTAFASIDDIQUI1445/ASSIGNMENTS/blob/main/Asad_PY_Assignment_I.ipynb\" target=\"_parent\"><img src=\"https://colab.research.google.com/assets/colab-badge.svg\" alt=\"Open In Colab\"/></a>"
      ]
    },
    {
      "cell_type": "code",
      "execution_count": null,
      "metadata": {
        "id": "9MIEDEb8_3xo"
      },
      "outputs": [],
      "source": []
    },
    {
      "cell_type": "markdown",
      "source": [
        "1. Pyton install\n",
        "2.CMD python-- versionpython\n",
        "print \"Hello World\"\n",
        "3.VS code create pythin folder ,VS code file open folder then select new file.\n",
        "4.Print \"Hello World\"\n",
        "5.Folder upper link clera path CMD\n",
        "\n"
      ],
      "metadata": {
        "id": "jcrsVBjBASN7"
      }
    },
    {
      "cell_type": "code",
      "source": [
        "print(\"Hello World\")"
      ],
      "metadata": {
        "colab": {
          "base_uri": "https://localhost:8080/"
        },
        "id": "wSlxMLdzA1R9",
        "outputId": "cfd62237-848c-4458-9336-649092f46bfd"
      },
      "execution_count": null,
      "outputs": [
        {
          "output_type": "stream",
          "name": "stdout",
          "text": [
            "Hello World\n"
          ]
        }
      ]
    },
    {
      "cell_type": "code",
      "source": [
        "print(\"HI SIR Aneeq Khattri\")"
      ],
      "metadata": {
        "colab": {
          "base_uri": "https://localhost:8080/"
        },
        "id": "ZVfsVhsWBHTo",
        "outputId": "794307c0-776b-4dce-c0eb-0138495d8260"
      },
      "execution_count": null,
      "outputs": [
        {
          "output_type": "stream",
          "name": "stdout",
          "text": [
            "HI SIR Aneeq Khattri\n"
          ]
        }
      ]
    },
    {
      "cell_type": "code",
      "source": [
        "print(\"THIS IS ASAD SIDDIQUI\")"
      ],
      "metadata": {
        "colab": {
          "base_uri": "https://localhost:8080/"
        },
        "id": "S7jM7lFrBP7H",
        "outputId": "90ced2e0-5fb6-4719-a253-2f57500eed63"
      },
      "execution_count": null,
      "outputs": [
        {
          "output_type": "stream",
          "name": "stdout",
          "text": [
            "THIS IS ASAD SIDDIQUI\n"
          ]
        }
      ]
    }
  ]
}