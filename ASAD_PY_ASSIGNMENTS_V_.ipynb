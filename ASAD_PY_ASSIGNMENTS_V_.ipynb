{
  "nbformat": 4,
  "nbformat_minor": 0,
  "metadata": {
    "colab": {
      "provenance": [],
      "authorship_tag": "ABX9TyMWypC0eeOQpoImHBWTsDT6",
      "include_colab_link": true
    },
    "kernelspec": {
      "name": "python3",
      "display_name": "Python 3"
    },
    "language_info": {
      "name": "python"
    }
  },
  "cells": [
    {
      "cell_type": "markdown",
      "metadata": {
        "id": "view-in-github",
        "colab_type": "text"
      },
      "source": [
        "<a href=\"https://colab.research.google.com/github/ASADMUSTAFASIDDIQUI1445/ASSIGNMENTS/blob/main/ASAD_PY_ASSIGNMENTS_V_.ipynb\" target=\"_parent\"><img src=\"https://colab.research.google.com/assets/colab-badge.svg\" alt=\"Open In Colab\"/></a>"
      ]
    },
    {
      "cell_type": "code",
      "execution_count": null,
      "metadata": {
        "colab": {
          "base_uri": "https://localhost:8080/"
        },
        "id": "LAf3icKYNCZa",
        "outputId": "6c274633-5183-4e63-932f-a734735a81e0"
      },
      "outputs": [
        {
          "output_type": "stream",
          "name": "stdout",
          "text": [
            "6 x 1 = 6\n",
            "6 x 2 = 12\n",
            "6 x 3 = 18\n",
            "6 x 4 = 24\n",
            "6 x 5 = 30\n",
            "6 x 6 = 36\n",
            "6 x 7 = 42\n",
            "6 x 8 = 48\n",
            "6 x 9 = 54\n",
            "6 x 10 = 60\n"
          ]
        }
      ],
      "source": [
        "num: int = 6\n",
        "print(\"6 x 1 =\", num * 1  )\n",
        "print(\"6 x 2 =\", num * 2  )\n",
        "print(\"6 x 3 =\", num * 3  )\n",
        "print(\"6 x 4 =\", num * 4  )\n",
        "print(\"6 x 5 =\", num * 5  )\n",
        "print(\"6 x 6 =\", num * 6  )\n",
        "print(\"6 x 7 =\", num * 7  )\n",
        "print(\"6 x 8 =\", num * 8  )\n",
        "print(\"6 x 9 =\", num * 9  )\n",
        "print(\"6 x 10 =\", num * 10 )"
      ]
    }
  ]
}