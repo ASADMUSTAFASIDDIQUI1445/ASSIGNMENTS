{
  "nbformat": 4,
  "nbformat_minor": 0,
  "metadata": {
    "colab": {
      "provenance": [],
      "authorship_tag": "ABX9TyN9wHirrCgXFxDhYxWjV1QC",
      "include_colab_link": true
    },
    "kernelspec": {
      "name": "python3",
      "display_name": "Python 3"
    },
    "language_info": {
      "name": "python"
    }
  },
  "cells": [
    {
      "cell_type": "markdown",
      "metadata": {
        "id": "view-in-github",
        "colab_type": "text"
      },
      "source": [
        "<a href=\"https://colab.research.google.com/github/ASADMUSTAFASIDDIQUI1445/ASSIGNMENTS/blob/main/ASAD_PY_ASSIGMENT_VII.ipynb\" target=\"_parent\"><img src=\"https://colab.research.google.com/assets/colab-badge.svg\" alt=\"Open In Colab\"/></a>"
      ]
    },
    {
      "cell_type": "code",
      "execution_count": 3,
      "metadata": {
        "colab": {
          "base_uri": "https://localhost:8080/"
        },
        "id": "5Jk6AgjxOW9Y",
        "outputId": "963250c0-ebde-4ffb-d892-2da52d77c128"
      },
      "outputs": [
        {
          "output_type": "stream",
          "name": "stdout",
          "text": [
            "8.162768031189083e-05\n"
          ]
        }
      ],
      "source": [
        "#reduce_function\n",
        "\n",
        "from functools import reduce\n",
        "numbers = [134,76,20,18,5,1,2,3,2]\n",
        "def Divi(a,m):\n",
        "    return a / m\n",
        "new_list =  reduce(Divi,numbers)\n",
        "print(new_list)"
      ]
    }
  ]
}