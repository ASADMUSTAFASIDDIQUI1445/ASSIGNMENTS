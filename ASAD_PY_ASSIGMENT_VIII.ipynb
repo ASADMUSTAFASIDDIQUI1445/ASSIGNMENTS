{
  "nbformat": 4,
  "nbformat_minor": 0,
  "metadata": {
    "colab": {
      "provenance": [],
      "authorship_tag": "ABX9TyNKN6plN9Jt0gC5yd9Jy8gl",
      "include_colab_link": true
    },
    "kernelspec": {
      "name": "python3",
      "display_name": "Python 3"
    },
    "language_info": {
      "name": "python"
    }
  },
  "cells": [
    {
      "cell_type": "markdown",
      "metadata": {
        "id": "view-in-github",
        "colab_type": "text"
      },
      "source": [
        "<a href=\"https://colab.research.google.com/github/ASADMUSTAFASIDDIQUI1445/ASSIGNMENTS/blob/main/ASAD_PY_ASSIGMENT_VIII.ipynb\" target=\"_parent\"><img src=\"https://colab.research.google.com/assets/colab-badge.svg\" alt=\"Open In Colab\"/></a>"
      ]
    },
    {
      "cell_type": "code",
      "execution_count": 5,
      "metadata": {
        "colab": {
          "base_uri": "https://localhost:8080/"
        },
        "id": "5Jk6AgjxOW9Y",
        "outputId": "388e5737-7286-433e-967d-5eedb6e24928"
      },
      "outputs": [
        {
          "output_type": "stream",
          "name": "stdout",
          "text": [
            "[1, 9, 25, 49, 81, 121]\n"
          ]
        }
      ],
      "source": [
        "number =[1,3,5,7,9,11]\n",
        "\n",
        "square = lambda x: x*x\n",
        "squared_numbers = list(map(square,number))\n",
        "print(squared_numbers)"
      ]
    }
  ]
}