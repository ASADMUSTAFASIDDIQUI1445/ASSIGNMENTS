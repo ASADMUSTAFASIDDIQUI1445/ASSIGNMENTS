{
  "nbformat": 4,
  "nbformat_minor": 0,
  "metadata": {
    "colab": {
      "provenance": [],
      "authorship_tag": "ABX9TyMoOUy694DMVBNDC2jD7Ljf",
      "include_colab_link": true
    },
    "kernelspec": {
      "name": "python3",
      "display_name": "Python 3"
    },
    "language_info": {
      "name": "python"
    }
  },
  "cells": [
    {
      "cell_type": "markdown",
      "metadata": {
        "id": "view-in-github",
        "colab_type": "text"
      },
      "source": [
        "<a href=\"https://colab.research.google.com/github/ASADMUSTAFASIDDIQUI1445/ASSIGNMENTS/blob/main/ASAD_PY_ASSIGMENT_IV.ipynb\" target=\"_parent\"><img src=\"https://colab.research.google.com/assets/colab-badge.svg\" alt=\"Open In Colab\"/></a>"
      ]
    },
    {
      "cell_type": "code",
      "execution_count": 1,
      "metadata": {
        "colab": {
          "base_uri": "https://localhost:8080/"
        },
        "id": "5Jk6AgjxOW9Y",
        "outputId": "ccb32964-3d2b-4661-e15a-f79226260835"
      },
      "outputs": [
        {
          "output_type": "stream",
          "name": "stdout",
          "text": [
            "enter a percentage66\n",
            "Grade rewaraded is:C\n"
          ]
        }
      ],
      "source": [
        "\n",
        "#class 5\n",
        "#python marksheet using (for loop)\n",
        "#list of students marksheets\n",
        "percentage =int(input(\"enter a percentage\"))\n",
        "\n",
        "if percentage >=90:\n",
        "    print(\"Grade rewaraded is:A1\")\n",
        "elif percentage >=80:\n",
        "    print(\"Grade rewaraded is:A\")\n",
        "elif percentage >=70:\n",
        "    print(\"Grade rewaraded is:B\")\n",
        "elif percentage >=60:\n",
        "    print(\"Grade rewaraded is:C\")\n",
        "elif percentage >=50:\n",
        "    print(\"Grade rewaraded is:D\")\n",
        "elif percentage >=40:\n",
        "    print(\"Grade rewaraded is:E\")\n",
        "else:\n",
        "    print (\"Grade awarded is:FAIL\")"
      ]
    }
  ]
}