{
  "nbformat": 4,
  "nbformat_minor": 0,
  "metadata": {
    "colab": {
      "provenance": [],
      "authorship_tag": "ABX9TyNRZUCuw1drQkOERFg8jjWT",
      "include_colab_link": true
    },
    "kernelspec": {
      "name": "python3",
      "display_name": "Python 3"
    },
    "language_info": {
      "name": "python"
    }
  },
  "cells": [
    {
      "cell_type": "markdown",
      "metadata": {
        "id": "view-in-github",
        "colab_type": "text"
      },
      "source": [
        "<a href=\"https://colab.research.google.com/github/ASADMUSTAFASIDDIQUI1445/ASSIGNMENTS/blob/main/ASAD_PY_ASSIGMENT_VI.ipynb\" target=\"_parent\"><img src=\"https://colab.research.google.com/assets/colab-badge.svg\" alt=\"Open In Colab\"/></a>"
      ]
    },
    {
      "cell_type": "code",
      "execution_count": 2,
      "metadata": {
        "colab": {
          "base_uri": "https://localhost:8080/"
        },
        "id": "5Jk6AgjxOW9Y",
        "outputId": "d8dcaf70-65f4-42e3-f4f5-5e61dde1d202"
      },
      "outputs": [
        {
          "output_type": "stream",
          "name": "stdout",
          "text": [
            "Enter a number:2\n",
            "2 x 1 =2\n",
            "2 x 2 =4\n",
            "2 x 3 =6\n",
            "2 x 4 =8\n",
            "2 x 5 =10\n",
            "2 x 6 =12\n",
            "2 x 7 =14\n",
            "2 x 8 =16\n",
            "2 x 9 =18\n",
            "2 x 10 =20\n",
            "Enter a number:asad\n",
            "invalid literal for int() with base 10: 'asad'\n"
          ]
        }
      ],
      "source": [
        "try:\n",
        "  num=int(input(\"Enter a number:\"))\n",
        "  for a in range(1,11):\n",
        "    print(f\"{num} x {a} ={num * a}\")\n",
        "except Exception as a:\n",
        "  print(a)\n",
        "\n",
        "try:\n",
        "   num=int(input(\"Enter a number:\"))\n",
        "   for a in range(1,11):\n",
        "    print(f\"{num} x {a} ={num * a}\")\n",
        "except Exception as a:\n",
        "  print(a)"
      ]
    }
  ]
}