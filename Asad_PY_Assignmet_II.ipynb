{
  "nbformat": 4,
  "nbformat_minor": 0,
  "metadata": {
    "colab": {
      "provenance": [],
      "authorship_tag": "ABX9TyNH9L70xGExFmN4YsaiyOrS",
      "include_colab_link": true
    },
    "kernelspec": {
      "name": "python3",
      "display_name": "Python 3"
    },
    "language_info": {
      "name": "python"
    }
  },
  "cells": [
    {
      "cell_type": "markdown",
      "metadata": {
        "id": "view-in-github",
        "colab_type": "text"
      },
      "source": [
        "<a href=\"https://colab.research.google.com/github/ASADMUSTAFASIDDIQUI1445/ASSIGNMENTS/blob/main/Asad_PY_Assignmet_II.ipynb\" target=\"_parent\"><img src=\"https://colab.research.google.com/assets/colab-badge.svg\" alt=\"Open In Colab\"/></a>"
      ]
    },
    {
      "cell_type": "code",
      "execution_count": null,
      "metadata": {
        "colab": {
          "base_uri": "https://localhost:8080/"
        },
        "id": "tkL23oXaEyfJ",
        "outputId": "5206ccc7-ffb5-4669-e27a-ba236619a456"
      },
      "outputs": [
        {
          "output_type": "stream",
          "name": "stdout",
          "text": [
            "ups off\n",
            "k-electric off\n"
          ]
        }
      ],
      "source": [
        "# k-Eletric\n",
        "\n",
        "num: str = \"K-Electric\"\n",
        "'K-Electric' ==\"yes\"\n",
        "print (\"ups off\")\n",
        "num: str = \"UPS\"\n",
        "'UPS' == \"yes\"\n",
        "print (\"k-electric off\")"
      ]
    }
  ]
}