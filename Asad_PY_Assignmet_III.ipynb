{
  "nbformat": 4,
  "nbformat_minor": 0,
  "metadata": {
    "colab": {
      "provenance": [],
      "authorship_tag": "ABX9TyO5AwpHR/L0wSmAn7gCE1yp",
      "include_colab_link": true
    },
    "kernelspec": {
      "name": "python3",
      "display_name": "Python 3"
    },
    "language_info": {
      "name": "python"
    }
  },
  "cells": [
    {
      "cell_type": "markdown",
      "metadata": {
        "id": "view-in-github",
        "colab_type": "text"
      },
      "source": [
        "<a href=\"https://colab.research.google.com/github/ASADMUSTAFASIDDIQUI1445/ASSIGNMENTS/blob/main/Asad_PY_Assignmet_III.ipynb\" target=\"_parent\"><img src=\"https://colab.research.google.com/assets/colab-badge.svg\" alt=\"Open In Colab\"/></a>"
      ]
    },
    {
      "cell_type": "code",
      "source": [
        "#Calulator\n",
        "print (\"Python Calculator\")\n",
        "num1 = float(input(\"number:\"))\n",
        "print (\"1.for add (+):\")\n",
        "print (\"2.for sub (-):\")# Default Parameter\n",
        "print (\"3.for multiply (*):\")\n",
        "print (\"4.for divd (/):\")\n",
        "print (\"5.for modulus/percentage (%):\")\n",
        "print (\"6.for exponent (**):\")\n",
        "choice = input(\"Eneter operator:\")\n",
        "num2 = float(input(\"second number:\"))\n",
        "print(\"number \")\n",
        "\n",
        "if choice == '1':\n",
        "   print (f\"{num1}+{num2}+{num1+num2}\")\n",
        "elif choice == '2':\n",
        "   print (f\"{num1}-{num2}={num1-num2}\")\n",
        "elif choice == '3':\n",
        "   print (f\"{num1}X{num2}={num1 * num2}\")\n",
        "elif choice == '4':\n",
        "   print (f\"{num1}/{num2}={num1/num2}\")\n",
        "else:\n",
        "    print(\"Invalid operator\")\n"
      ],
      "metadata": {
        "colab": {
          "base_uri": "https://localhost:8080/"
        },
        "id": "vIpNdWMuJLXW",
        "outputId": "26af7022-bf89-44e9-c837-56b72eaba191"
      },
      "execution_count": null,
      "outputs": [
        {
          "output_type": "stream",
          "name": "stdout",
          "text": [
            "Python Calculator\n",
            "number:100\n",
            "1.for add (+):\n",
            "2.for sub (-):\n",
            "3.for multiply (*):\n",
            "4.for divd (/):\n",
            "5.for modulus/percentage (%):\n",
            "6.for exponent (**):\n",
            "Eneter operator:3\n",
            "second number:50\n",
            "number \n",
            "100.0X50.0=5000.0\n"
          ]
        }
      ]
    },
    {
      "cell_type": "markdown",
      "source": [],
      "metadata": {
        "id": "tHhYAKJpJjiK"
      }
    },
    {
      "cell_type": "code",
      "source": [],
      "metadata": {
        "id": "iEu07V_kJIyA"
      },
      "execution_count": null,
      "outputs": []
    },
    {
      "cell_type": "code",
      "source": [],
      "metadata": {
        "id": "msG7XFAiJIN8"
      },
      "execution_count": null,
      "outputs": []
    }
  ]
}